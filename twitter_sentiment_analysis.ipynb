{
  "nbformat": 4,
  "nbformat_minor": 0,
  "metadata": {
    "colab": {
      "name": "twitter sentiment analysis",
      "provenance": [],
      "collapsed_sections": []
    },
    "kernelspec": {
      "name": "python3",
      "display_name": "Python 3"
    }
  },
  "cells": [
    {
      "cell_type": "code",
      "metadata": {
        "id": "800i7nAuJqSB"
      },
      "source": [
        "import pandas as pd\n",
        "import numpy as np\n",
        "path = 'https://github.com/ashishsingh101/datasets/blob/main/train_E6oV3lV.csv?raw=true'\n",
        "df = pd.read_csv(path)\n",
        "\n",
        "data = []\n",
        "label = []\n",
        "for i in range(len(df)):\n",
        "  label.append(df.iloc[i]['label'])\n",
        "  data.append(df.iloc[i]['tweet'])\n",
        "\n",
        "label = np.array(label)"
      ],
      "execution_count": 2,
      "outputs": []
    },
    {
      "cell_type": "code",
      "metadata": {
        "id": "WV_b36d4Zm8z",
        "outputId": "391ebf66-7636-4a12-ba1b-8855af916e65",
        "colab": {
          "base_uri": "https://localhost:8080/",
          "height": 204
        }
      },
      "source": [
        "from tensorflow.keras.preprocessing.text import Tokenizer\n",
        "from tensorflow.keras.preprocessing.sequence import pad_sequences\n",
        "from tensorflow.keras.utils import to_categorical\n",
        "\n",
        "max_words = 10000\n",
        "max_len = 100\n",
        "\n",
        "tokenizer = Tokenizer(num_words = max_words)\n",
        "tokenizer.fit_on_texts(data)\n",
        "one_hot = tokenizer.texts_to_matrix(data, mode = 'binary')\n",
        "sequences = tokenizer.texts_to_sequences(data)\n",
        "word_index = tokenizer.word_index\n",
        "\n",
        "sequences = pad_sequences(sequences, maxlen = max_len)\n",
        "\n",
        "\n",
        "print(sequences[0])\n",
        "print(one_hot[0])\n",
        "print(word_index['the'])\n",
        "\n",
        "print(label[0])"
      ],
      "execution_count": 3,
      "outputs": [
        {
          "output_type": "stream",
          "text": [
            "[   0    0    0    0    0    0    0    0    0    0    0    0    0    0\n",
            "    0    0    0    0    0    0    0    0    0    0    0    0    0    0\n",
            "    0    0    0    0    0    0    0    0    0    0    0    0    0    0\n",
            "    0    0    0    0    0    0    0    0    0    0    0    0    0    0\n",
            "    0    0    0    0    0    0    0    0    0    0    0    0    0    0\n",
            "    0    0    0    0    0    0    0    0    0    0    0    0    0    1\n",
            "   34    4  252   11    7   11   20 2753   97 6655   95  255  256   95\n",
            " 8136  480]\n",
            "[0. 1. 0. ... 0. 0. 0.]\n",
            "2\n",
            "0\n"
          ],
          "name": "stdout"
        }
      ]
    },
    {
      "cell_type": "code",
      "metadata": {
        "id": "zXs56WQSbWHH",
        "outputId": "e99f6fb5-20ae-4f34-e1e2-d888e0ee074c",
        "colab": {
          "base_uri": "https://localhost:8080/",
          "height": 68
        }
      },
      "source": [
        "from sklearn.model_selection import train_test_split\n",
        "\n",
        "train_data,val_data, train_label, val_label = train_test_split(one_hot, label, test_size = 0.25, random_state=42)\n",
        "\n",
        "print(train_data[0], train_label[0])\n",
        "print(train_data.shape)\n",
        "print(len(train_data[0]))"
      ],
      "execution_count": 4,
      "outputs": [
        {
          "output_type": "stream",
          "text": [
            "[0. 0. 0. ... 0. 0. 0.] 0\n",
            "(23971, 10000)\n",
            "10000\n"
          ],
          "name": "stdout"
        }
      ]
    },
    {
      "cell_type": "markdown",
      "metadata": {
        "id": "QU4ZPKSIN32W"
      },
      "source": [
        "**using simple dense layer to train data**"
      ]
    },
    {
      "cell_type": "code",
      "metadata": {
        "id": "-IAJxQyDbYPZ",
        "outputId": "756dcbce-b274-44f8-8a66-358707458fbb",
        "colab": {
          "base_uri": "https://localhost:8080/",
          "height": 697
        }
      },
      "source": [
        "from tensorflow.keras import layers,Sequential,preprocessing\n",
        "\n",
        "model = Sequential()\n",
        "model.add(layers.Dense(64, activation = 'relu', input_shape = (10000,)))\n",
        "model.add(layers.Dense(128, activation = 'relu'))\n",
        "model.add(layers.Dense(128, activation = 'relu'))\n",
        "model.add(layers.Dense(1, activation = 'sigmoid'))\n",
        "\n",
        "model.compile(optimizer = 'rmsprop',\n",
        "             loss = 'binary_crossentropy',\n",
        "             metrics = ['acc'])\n",
        "\n",
        "\n",
        "history = model.fit(train_data, train_label,\n",
        "                   epochs = 20,\n",
        "                   batch_size = 120,\n",
        "                   validation_data = (val_data, val_label))\n"
      ],
      "execution_count": 5,
      "outputs": [
        {
          "output_type": "stream",
          "text": [
            "Epoch 1/20\n",
            "200/200 [==============================] - 4s 20ms/step - loss: 0.1763 - acc: 0.9444 - val_loss: 0.1355 - val_acc: 0.9562\n",
            "Epoch 2/20\n",
            "200/200 [==============================] - 4s 20ms/step - loss: 0.0982 - acc: 0.9665 - val_loss: 0.1239 - val_acc: 0.9598\n",
            "Epoch 3/20\n",
            "200/200 [==============================] - 4s 22ms/step - loss: 0.0698 - acc: 0.9782 - val_loss: 0.1266 - val_acc: 0.9608\n",
            "Epoch 4/20\n",
            "200/200 [==============================] - 3s 17ms/step - loss: 0.0462 - acc: 0.9851 - val_loss: 0.1462 - val_acc: 0.9607\n",
            "Epoch 5/20\n",
            "200/200 [==============================] - 3s 17ms/step - loss: 0.0303 - acc: 0.9907 - val_loss: 0.1531 - val_acc: 0.9608\n",
            "Epoch 6/20\n",
            "200/200 [==============================] - 3s 17ms/step - loss: 0.0194 - acc: 0.9941 - val_loss: 0.1702 - val_acc: 0.9526\n",
            "Epoch 7/20\n",
            "200/200 [==============================] - 3s 17ms/step - loss: 0.0119 - acc: 0.9965 - val_loss: 0.1944 - val_acc: 0.9499\n",
            "Epoch 8/20\n",
            "200/200 [==============================] - 3s 17ms/step - loss: 0.0078 - acc: 0.9982 - val_loss: 0.2173 - val_acc: 0.9598\n",
            "Epoch 9/20\n",
            "200/200 [==============================] - 4s 18ms/step - loss: 0.0057 - acc: 0.9984 - val_loss: 0.2156 - val_acc: 0.9605\n",
            "Epoch 10/20\n",
            "200/200 [==============================] - 4s 18ms/step - loss: 0.0047 - acc: 0.9989 - val_loss: 0.2411 - val_acc: 0.9601\n",
            "Epoch 11/20\n",
            "200/200 [==============================] - 3s 17ms/step - loss: 0.0036 - acc: 0.9989 - val_loss: 0.2478 - val_acc: 0.9591\n",
            "Epoch 12/20\n",
            "200/200 [==============================] - 3s 17ms/step - loss: 0.0047 - acc: 0.9982 - val_loss: 0.2838 - val_acc: 0.9556\n",
            "Epoch 13/20\n",
            "200/200 [==============================] - 3s 17ms/step - loss: 0.0023 - acc: 0.9993 - val_loss: 0.2925 - val_acc: 0.9625\n",
            "Epoch 14/20\n",
            "200/200 [==============================] - 3s 17ms/step - loss: 0.0020 - acc: 0.9995 - val_loss: 0.3294 - val_acc: 0.9620\n",
            "Epoch 15/20\n",
            "200/200 [==============================] - 3s 17ms/step - loss: 0.0016 - acc: 0.9995 - val_loss: 0.3204 - val_acc: 0.9617\n",
            "Epoch 16/20\n",
            "200/200 [==============================] - 3s 17ms/step - loss: 0.0020 - acc: 0.9996 - val_loss: 0.3920 - val_acc: 0.9623\n",
            "Epoch 17/20\n",
            "200/200 [==============================] - 3s 17ms/step - loss: 0.0017 - acc: 0.9995 - val_loss: 0.3594 - val_acc: 0.9590\n",
            "Epoch 18/20\n",
            "200/200 [==============================] - 3s 17ms/step - loss: 0.0014 - acc: 0.9997 - val_loss: 0.3526 - val_acc: 0.9499\n",
            "Epoch 19/20\n",
            "200/200 [==============================] - 3s 17ms/step - loss: 0.0015 - acc: 0.9997 - val_loss: 0.3673 - val_acc: 0.9591\n",
            "Epoch 20/20\n",
            "200/200 [==============================] - 3s 17ms/step - loss: 0.0020 - acc: 0.9996 - val_loss: 0.3603 - val_acc: 0.9590\n"
          ],
          "name": "stdout"
        }
      ]
    },
    {
      "cell_type": "code",
      "metadata": {
        "id": "AjXpmqKobZ2q",
        "outputId": "3ca481c8-06d5-4980-9ae7-e0d9e396d0b3",
        "colab": {
          "base_uri": "https://localhost:8080/",
          "height": 545
        }
      },
      "source": [
        "import matplotlib.pyplot as plt\n",
        "acc = history.history['acc']\n",
        "val_acc = history.history['val_acc']\n",
        "loss = history.history['loss']\n",
        "val_loss = history.history['val_loss']\n",
        "epochs = range(1, len(acc) + 1)\n",
        "plt.plot(epochs, acc, 'bo', label='Training acc')\n",
        "plt.plot(epochs, val_acc, 'b', label='Validation acc')\n",
        "plt.title('Training and validation accuracy')\n",
        "\n",
        "plt.legend()\n",
        "plt.show()\n",
        "\n",
        "plt.figure()\n",
        "plt.plot(epochs, loss, 'bo', label='Training loss')\n",
        "plt.plot(epochs, val_loss, 'b', label='Validation loss')\n",
        "plt.title('Training and validation loss')\n",
        "plt.legend()\n",
        "plt.show()"
      ],
      "execution_count": 6,
      "outputs": [
        {
          "output_type": "display_data",
          "data": {
            "image/png": "[encoded data removed]",
            "text/plain": [
              "<Figure size 432x288 with 1 Axes>"
            ]
          },
          "metadata": {
            "tags": [],
            "needs_background": "light"
          }
        },
        {
          "output_type": "display_data",
          "data": {
            "image/png": "[encoded data removed]",
            "text/plain": [
              "<Figure size 432x288 with 1 Axes>"
            ]
          },
          "metadata": {
            "tags": [],
            "needs_background": "light"
          }
        }
      ]
    },
    {
      "cell_type": "code",
      "metadata": {
        "id": "X4KUa6KRC-Pu",
        "outputId": "873a37cd-9c11-45e8-c241-0bdb8b8e5656",
        "colab": {
          "base_uri": "https://localhost:8080/",
          "height": 68
        }
      },
      "source": [
        "txt= 'bad tweet'\n",
        "toke = Tokenizer(num_words = max_words)\n",
        "toke.fit_on_texts([txt])\n",
        "one_hotted = toke.texts_to_matrix([txt], mode = 'binary')\n",
        "print(model.predict(one_hotted))\n",
        "print(one_hotted, len(one_hotted[0]))\n",
        "print(word_index['good'], word_index['tweet'], word_index['bad'])"
      ],
      "execution_count": 7,
      "outputs": [
        {
          "output_type": "stream",
          "text": [
            "[[0.02037215]]\n",
            "[[0. 1. 1. ... 0. 0. 0.]] 10000\n",
            "58 515 301\n"
          ],
          "name": "stdout"
        }
      ]
    },
    {
      "cell_type": "code",
      "metadata": {
        "id": "88VfVvGyEfhR",
        "outputId": "ab57429e-5def-4e2f-9b98-2d754819f315",
        "colab": {
          "base_uri": "https://localhost:8080/",
          "height": 68
        }
      },
      "source": [
        "t = 'bad'\n",
        "print(word_index['bad'], word_index['the'])\n",
        "one_2 = tokenizer.texts_to_matrix([t], mode = 'binary')\n",
        "print(one_2)\n",
        "print(model.predict(one_2))"
      ],
      "execution_count": 8,
      "outputs": [
        {
          "output_type": "stream",
          "text": [
            "301 2\n",
            "[[0. 0. 0. ... 0. 0. 0.]]\n",
            "[[0.03032178]]\n"
          ],
          "name": "stdout"
        }
      ]
    },
    {
      "cell_type": "markdown",
      "metadata": {
        "id": "VM4ngwekNN_z"
      },
      "source": [
        "**lets use embedding layer (glove)**"
      ]
    },
    {
      "cell_type": "code",
      "metadata": {
        "id": "CcudZn2APq8R"
      },
      "source": [
        "# reading glove data\n",
        "import numpy as np\n",
        "\n",
        "embedding_index = {}\n",
        "\n",
        "f = open('/content/glove.6B.50d.txt')\n",
        "for line in f:\n",
        "  values = line.split()\n",
        "  word = values[0]\n",
        "  coefs = np.asarray(values[1:], dtype = 'float32')\n",
        "  embedding_index[word] = coefs\n",
        "f.close()"
      ],
      "execution_count": 9,
      "outputs": []
    },
    {
      "cell_type": "code",
      "metadata": {
        "id": "oW1RIy5DRMbT"
      },
      "source": [
        "embedding_dim = 50\n",
        "embedding_matrix = np.zeros((max_words, embedding_dim))\n",
        "\n",
        "for word,i in word_index.items():\n",
        "  if i < max_words and word in embedding_index:\n",
        "    embedding_matrix[i] = embedding_index[word]"
      ],
      "execution_count": 10,
      "outputs": []
    },
    {
      "cell_type": "code",
      "metadata": {
        "id": "M-JvNDxvSx5X",
        "outputId": "12b074ea-1252-42c6-f043-a5491b914840",
        "colab": {
          "base_uri": "https://localhost:8080/",
          "height": 357
        }
      },
      "source": [
        "from tensorflow.keras.layers import Embedding, Flatten, Dense\n",
        "\n",
        "model2 = Sequential()\n",
        "model2.add(Embedding(max_words, embedding_dim, input_length = 10000))\n",
        "model2.add(Flatten())\n",
        "model2.add(Dense(64, activation = 'relu'))\n",
        "model2.add(Dense(128, activation = 'relu'))\n",
        "model2.add(Dense(32, activation = 'relu'))\n",
        "model2.add(Dense(1, activation = 'sigmoid'))\n",
        "\n",
        "model2.layers[0].set_weights([embedding_matrix])\n",
        "model2.layers[0].trainable = False\n",
        "\n",
        "model2.compile(optimizer = 'rmsprop',\n",
        "               loss = 'binary_crossentropy',\n",
        "               metrics = ['acc'])\n",
        "\n",
        "history2 = model2.fit(train_data, train_label,\n",
        "                    epochs = 10,\n",
        "                    batch_size = 200 ,\n",
        "                    validation_data = (val_data, val_label))"
      ],
      "execution_count": 11,
      "outputs": [
        {
          "output_type": "stream",
          "text": [
            "Epoch 1/10\n",
            "120/120 [==============================] - 107s 891ms/step - loss: 0.1676 - acc: 0.9451 - val_loss: 0.1305 - val_acc: 0.9592\n",
            "Epoch 2/10\n",
            "120/120 [==============================] - 106s 881ms/step - loss: 0.0811 - acc: 0.9727 - val_loss: 0.1295 - val_acc: 0.9613\n",
            "Epoch 3/10\n",
            "120/120 [==============================] - 105s 878ms/step - loss: 0.0393 - acc: 0.9872 - val_loss: 0.1728 - val_acc: 0.9628\n",
            "Epoch 4/10\n",
            "120/120 [==============================] - 106s 884ms/step - loss: 0.0171 - acc: 0.9947 - val_loss: 0.1794 - val_acc: 0.9606\n",
            "Epoch 5/10\n",
            "120/120 [==============================] - 105s 878ms/step - loss: 0.0068 - acc: 0.9980 - val_loss: 0.2296 - val_acc: 0.9622\n",
            "Epoch 6/10\n",
            "120/120 [==============================] - 106s 882ms/step - loss: 0.0047 - acc: 0.9986 - val_loss: 0.2367 - val_acc: 0.9611\n",
            "Epoch 7/10\n",
            "120/120 [==============================] - 105s 879ms/step - loss: 0.0019 - acc: 0.9995 - val_loss: 0.3969 - val_acc: 0.9611\n",
            "Epoch 8/10\n",
            "120/120 [==============================] - 105s 878ms/step - loss: 0.0022 - acc: 0.9992 - val_loss: 0.3380 - val_acc: 0.9595\n",
            "Epoch 9/10\n",
            "120/120 [==============================] - 105s 877ms/step - loss: 8.3429e-04 - acc: 0.9997 - val_loss: 0.3516 - val_acc: 0.9585\n",
            "Epoch 10/10\n",
            "120/120 [==============================] - 106s 882ms/step - loss: 0.0014 - acc: 0.9996 - val_loss: 0.3831 - val_acc: 0.9586\n"
          ],
          "name": "stdout"
        }
      ]
    },
    {
      "cell_type": "code",
      "metadata": {
        "id": "Vw-vhjxWUjZ0",
        "outputId": "0fc7346f-57c2-4102-cac1-06cdf1399c9b",
        "colab": {
          "base_uri": "https://localhost:8080/",
          "height": 545
        }
      },
      "source": [
        "import matplotlib.pyplot as plt\n",
        "acc = history2.history['acc']\n",
        "val_acc = history2.history['val_acc']\n",
        "loss = history2.history['loss']\n",
        "val_loss = history2.history['val_loss']\n",
        "epochs = range(1, len(acc) + 1)\n",
        "plt.plot(epochs, acc, 'bo', label='Training acc')\n",
        "plt.plot(epochs, val_acc, 'b', label='Validation acc')\n",
        "plt.title('Training and validation accuracy')\n",
        "\n",
        "plt.legend()\n",
        "plt.show()\n",
        "\n",
        "plt.figure()\n",
        "plt.plot(epochs, loss, 'bo', label='Training loss')\n",
        "plt.plot(epochs, val_loss, 'b', label='Validation loss')\n",
        "plt.title('Training and validation loss')\n",
        "plt.legend()\n",
        "plt.show()"
      ],
      "execution_count": 12,
      "outputs": [
        {
          "output_type": "display_data",
          "data": {
            "image/png": "[encoded data removed]",
            "text/plain": [
              "<Figure size 432x288 with 1 Axes>"
            ]
          },
          "metadata": {
            "tags": [],
            "needs_background": "light"
          }
        },
        {
          "output_type": "display_data",
          "data": {
            "image/png": "[encoded data removed]",
            "text/plain": [
              "<Figure size 432x288 with 1 Axes>"
            ]
          },
          "metadata": {
            "tags": [],
            "needs_background": "light"
          }
        }
      ]
    },
    {
      "cell_type": "code",
      "metadata": {
        "id": "EpCuuzE91BMr",
        "outputId": "6be22ed4-d80d-414b-8e60-a0a745d633d8",
        "colab": {
          "base_uri": "https://localhost:8080/",
          "height": 68
        }
      },
      "source": [
        "from tensorflow.keras.preprocessing.text import Tokenizer\n",
        "from tensorflow.keras.preprocessing.sequence import pad_sequences\n",
        "from tensorflow.keras.utils import to_categorical\n",
        "\n",
        "max_words = 10000\n",
        "max_len = 100\n",
        "\n",
        "texts= ['men and women']\n",
        "one_hot_1 = tokenizer.texts_to_matrix(texts, mode = 'binary')\n",
        "print(one_hot_1)\n",
        "print(model2.predict(one_hot_1)[0][0])\n",
        "\n",
        "if model2.predict(one_hot_1)[0][0] > 0.5:\n",
        "  print('1')\n",
        "else:\n",
        "  print('0')"
      ],
      "execution_count": 20,
      "outputs": [
        {
          "output_type": "stream",
          "text": [
            "[[0. 0. 0. ... 0. 0. 0.]]\n",
            "0.9999985\n",
            "1\n"
          ],
          "name": "stdout"
        }
      ]
    },
    {
      "cell_type": "code",
      "metadata": {
        "id": "ZQYmoL-uzq90",
        "outputId": "fba10eac-f2e7-481c-e762-247fa0ff45f2",
        "colab": {
          "base_uri": "https://localhost:8080/",
          "height": 34
        }
      },
      "source": [
        "import pandas as pd\n",
        "import numpy as np\n",
        "\n",
        "test_path = 'https://github.com/ashishsingh101/datasets/blob/main/test_tweets_anuFYb8.csv?raw=true'\n",
        "test_df = pd.read_csv(test_path)\n",
        "\n",
        "id = []\n",
        "ans = []\n",
        "for i in range(len(test_df)):\n",
        "  id.append(test_df.iloc[i]['id'])\n",
        "  tweet_text = [test_df.iloc[i]['tweet']]\n",
        "  one_hot_tweet = tokenizer.texts_to_matrix(tweet_text, mode = 'binary')\n",
        "  if model2.predict(one_hot_tweet)[0][0] > 0.5:\n",
        "    ans.append(1)\n",
        "  else:\n",
        "    ans.append(0)\n",
        "\n",
        "print(id[0], ans[0])\n",
        "\n"
      ],
      "execution_count": 30,
      "outputs": [
        {
          "output_type": "stream",
          "text": [
            "31963 0\n"
          ],
          "name": "stdout"
        }
      ]
    },
    {
      "cell_type": "code",
      "metadata": {
        "id": "i_gCVgMuIi29"
      },
      "source": [
        "dic = {'id':id, 'label':ans}\n",
        "df = pd.DataFrame(dic)\n",
        "df.to_csv('/content/sample_data/twitter_analysis_ans.csv')"
      ],
      "execution_count": 31,
      "outputs": []
    },
    {
      "cell_type": "markdown",
      "metadata": {
        "id": "F_fjk0HeXa-u"
      },
      "source": [
        "**save models**"
      ]
    }
  ]
}